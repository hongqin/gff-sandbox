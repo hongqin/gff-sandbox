{
 "cells": [
  {
   "cell_type": "code",
   "execution_count": 1,
   "metadata": {},
   "outputs": [],
   "source": [
    "import gffpandas\n",
    "annotation = gffpandas.read_gff3('gff_example1.gff3.txt')"
   ]
  },
  {
   "cell_type": "code",
   "execution_count": 2,
   "metadata": {},
   "outputs": [
    {
     "name": "stdout",
     "output_type": "stream",
     "text": [
      "   seq_id   source             type    start      end score strand phase  \\\n",
      "0    chr1  ensGene             gene  4763287  4775820     .      -     .   \n",
      "1    chr1  ensGene             mRNA  4764517  4775779     .      -     .   \n",
      "2    chr1  ensGene              CDS  4775654  4775758     .      -     0   \n",
      "3    chr1  ensGene              CDS  4772761  4772814     .      -     0   \n",
      "4    chr1  ensGene             exon  4775654  4775779     .      -     .   \n",
      "5    chr1  ensGene             exon  4772649  4772814     .      -     .   \n",
      "6    chr1  ensGene             exon  4767606  4767729     .      -     .   \n",
      "7    chr1  ensGene             exon  4764517  4764597     .      -     .   \n",
      "8    chr1  ensGene   five_prime_UTR  4775759  4775779     .      -     .   \n",
      "9    chr1  ensGene  three_prime_UTR  4772649  4772760     .      -     .   \n",
      "10   chr1  ensGene  three_prime_UTR  4767606  4767729     .      -     .   \n",
      "11   chr1  ensGene  three_prime_UTR  4764517  4764597     .      -     .   \n",
      "\n",
      "                                           attributes  \n",
      "0   Name=ENSMUSG00000033845;ID=ENSMUSG00000033845;...  \n",
      "1   Name=ENSMUST00000045689;Parent=ENSMUSG00000033...  \n",
      "2   Name=ENSMUST00000045689.cds0;Parent=ENSMUST000...  \n",
      "3   Name=ENSMUST00000045689.cds1;Parent=ENSMUST000...  \n",
      "4   Name=ENSMUST00000045689.exon0;Parent=ENSMUST00...  \n",
      "5   Name=ENSMUST00000045689.exon1;Parent=ENSMUST00...  \n",
      "6   Name=ENSMUST00000045689.exon2;Parent=ENSMUST00...  \n",
      "7   Name=ENSMUST00000045689.exon3;Parent=ENSMUST00...  \n",
      "8   Name=ENSMUST00000045689.utr0;Parent=ENSMUST000...  \n",
      "9   Name=ENSMUST00000045689.utr1;Parent=ENSMUST000...  \n",
      "10  Name=ENSMUST00000045689.utr2;Parent=ENSMUST000...  \n",
      "11  Name=ENSMUST00000045689.utr3;Parent=ENSMUST000...  \n"
     ]
    }
   ],
   "source": [
    "print(annotation.df)"
   ]
  },
  {
   "cell_type": "code",
   "execution_count": 3,
   "metadata": {},
   "outputs": [
    {
     "name": "stdout",
     "output_type": "stream",
     "text": [
      "##gff-version 3\n",
      "#!gff-spec-version 1.21\n",
      "#!processor NCBI annotwriter\n",
      "#!genome-build ASM985889v3\n",
      "#!genome-build-accession NCBI_Assembly:GCF_009858895.2\n",
      "##sequence-region NC_045512.2 1 29903\n",
      "##species https://www.ncbi.nlm.nih.gov/Taxonomy/Browser/wwwtax.cgi?id=2697049\n",
      "\n"
     ]
    }
   ],
   "source": [
    "annotation = gffpandas.read_gff3('sars-cov2-ref.gff')\n",
    "print(annotation.header)"
   ]
  },
  {
   "cell_type": "code",
   "execution_count": 4,
   "metadata": {},
   "outputs": [
    {
     "name": "stdout",
     "output_type": "stream",
     "text": [
      "         seq_id  source             type  start    end score strand phase  \\\n",
      "0   NC_045512.2  RefSeq           region      1  29903     .      +     .   \n",
      "1   NC_045512.2  RefSeq   five_prime_UTR      1    265     .      +     .   \n",
      "2   NC_045512.2  RefSeq             gene    266  21555     .      +     .   \n",
      "3   NC_045512.2  RefSeq              CDS    266  13468     .      +     0   \n",
      "4   NC_045512.2  RefSeq              CDS  13468  21555     .      +     0   \n",
      "5   NC_045512.2  RefSeq              CDS    266  13483     .      +     0   \n",
      "6   NC_045512.2  RefSeq        stem_loop  13476  13503     .      +     .   \n",
      "7   NC_045512.2  RefSeq        stem_loop  13488  13542     .      +     .   \n",
      "8   NC_045512.2  RefSeq             gene  21563  25384     .      +     .   \n",
      "9   NC_045512.2  RefSeq              CDS  21563  25384     .      +     0   \n",
      "10  NC_045512.2  RefSeq             gene  25393  26220     .      +     .   \n",
      "11  NC_045512.2  RefSeq              CDS  25393  26220     .      +     0   \n",
      "12  NC_045512.2  RefSeq             gene  26245  26472     .      +     .   \n",
      "13  NC_045512.2  RefSeq              CDS  26245  26472     .      +     0   \n",
      "14  NC_045512.2  RefSeq             gene  26523  27191     .      +     .   \n",
      "15  NC_045512.2  RefSeq              CDS  26523  27191     .      +     0   \n",
      "16  NC_045512.2  RefSeq             gene  27202  27387     .      +     .   \n",
      "17  NC_045512.2  RefSeq              CDS  27202  27387     .      +     0   \n",
      "18  NC_045512.2  RefSeq             gene  27394  27759     .      +     .   \n",
      "19  NC_045512.2  RefSeq              CDS  27394  27759     .      +     0   \n",
      "20  NC_045512.2  RefSeq             gene  27756  27887     .      +     .   \n",
      "21  NC_045512.2  RefSeq              CDS  27756  27887     .      +     0   \n",
      "22  NC_045512.2  RefSeq             gene  27894  28259     .      +     .   \n",
      "23  NC_045512.2  RefSeq              CDS  27894  28259     .      +     0   \n",
      "24  NC_045512.2  RefSeq             gene  28274  29533     .      +     .   \n",
      "25  NC_045512.2  RefSeq              CDS  28274  29533     .      +     0   \n",
      "26  NC_045512.2  RefSeq             gene  29558  29674     .      +     .   \n",
      "27  NC_045512.2  RefSeq              CDS  29558  29674     .      +     0   \n",
      "28  NC_045512.2  RefSeq        stem_loop  29609  29644     .      +     .   \n",
      "29  NC_045512.2  RefSeq        stem_loop  29629  29657     .      +     .   \n",
      "30  NC_045512.2  RefSeq  three_prime_UTR  29675  29903     .      +     .   \n",
      "31  NC_045512.2  RefSeq        stem_loop  29728  29768     .      +     .   \n",
      "\n",
      "                                           attributes  \n",
      "0   ID=NC_045512.2:1..29903;Dbxref=taxon:2697049;c...  \n",
      "1                ID=id-NC_045512.2:1..265;gbkey=5'UTR  \n",
      "2   ID=gene-GU280_gp01;Dbxref=GeneID:43740578;Name...  \n",
      "3   ID=cds-YP_009724389.1;Parent=gene-GU280_gp01;D...  \n",
      "4   ID=cds-YP_009724389.1;Parent=gene-GU280_gp01;D...  \n",
      "5   ID=cds-YP_009725295.1;Parent=gene-GU280_gp01;D...  \n",
      "6   ID=id-GU280_gp01;Dbxref=GeneID:43740578;functi...  \n",
      "7   ID=id-GU280_gp01-2;Dbxref=GeneID:43740578;func...  \n",
      "8   ID=gene-GU280_gp02;Dbxref=GeneID:43740568;Name...  \n",
      "9   ID=cds-YP_009724390.1;Parent=gene-GU280_gp02;D...  \n",
      "10  ID=gene-GU280_gp03;Dbxref=GeneID:43740569;Name...  \n",
      "11  ID=cds-YP_009724391.1;Parent=gene-GU280_gp03;D...  \n",
      "12  ID=gene-GU280_gp04;Dbxref=GeneID:43740570;Name...  \n",
      "13  ID=cds-YP_009724392.1;Parent=gene-GU280_gp04;D...  \n",
      "14  ID=gene-GU280_gp05;Dbxref=GeneID:43740571;Name...  \n",
      "15  ID=cds-YP_009724393.1;Parent=gene-GU280_gp05;D...  \n",
      "16  ID=gene-GU280_gp06;Dbxref=GeneID:43740572;Name...  \n",
      "17  ID=cds-YP_009724394.1;Parent=gene-GU280_gp06;D...  \n",
      "18  ID=gene-GU280_gp07;Dbxref=GeneID:43740573;Name...  \n",
      "19  ID=cds-YP_009724395.1;Parent=gene-GU280_gp07;D...  \n",
      "20  ID=gene-GU280_gp08;Dbxref=GeneID:43740574;Name...  \n",
      "21  ID=cds-YP_009725318.1;Parent=gene-GU280_gp08;D...  \n",
      "22  ID=gene-GU280_gp09;Dbxref=GeneID:43740577;Name...  \n",
      "23  ID=cds-YP_009724396.1;Parent=gene-GU280_gp09;D...  \n",
      "24  ID=gene-GU280_gp10;Dbxref=GeneID:43740575;Name...  \n",
      "25  ID=cds-YP_009724397.2;Parent=gene-GU280_gp10;D...  \n",
      "26  ID=gene-GU280_gp11;Dbxref=GeneID:43740576;Name...  \n",
      "27  ID=cds-YP_009725255.1;Parent=gene-GU280_gp11;D...  \n",
      "28  ID=id-GU280_gp11;Dbxref=GeneID:43740576;functi...  \n",
      "29  ID=id-GU280_gp11-2;Dbxref=GeneID:43740576;func...  \n",
      "30         ID=id-NC_045512.2:29675..29903;gbkey=3'UTR  \n",
      "31  ID=id-NC_045512.2:29728..29768;Note=basepair e...  \n"
     ]
    }
   ],
   "source": [
    "print(annotation.df)"
   ]
  },
  {
   "cell_type": "code",
   "execution_count": null,
   "metadata": {},
   "outputs": [],
   "source": []
  }
 ],
 "metadata": {
  "kernelspec": {
   "display_name": "Python 3",
   "language": "python",
   "name": "python3"
  },
  "language_info": {
   "codemirror_mode": {
    "name": "ipython",
    "version": 3
   },
   "file_extension": ".py",
   "mimetype": "text/x-python",
   "name": "python",
   "nbconvert_exporter": "python",
   "pygments_lexer": "ipython3",
   "version": "3.7.7"
  }
 },
 "nbformat": 4,
 "nbformat_minor": 2
}
